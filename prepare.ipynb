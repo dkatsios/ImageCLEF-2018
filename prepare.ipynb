{
 "cells": [
  {
   "cell_type": "markdown",
   "metadata": {},
   "source": [
    "# Prepare\n",
    "\n",
    "The aim of this notebook is to prepare all required data files for the particular challenge including but not limited to HDF5 batches and JPEG images."
   ]
  },
  {
   "cell_type": "code",
   "execution_count": 1,
   "metadata": {},
   "outputs": [],
   "source": [
    "# ...\n",
    "INPUT_PATH_IMAGES   = \"/home/ubuntu/data/CaptionTraining2018.zip\"\n",
    "INPUT_PATH_CONCEPTS = \"/home/ubuntu/data/ConceptDetectionTraining2018-Concepts.csv\""
   ]
  },
  {
   "cell_type": "code",
   "execution_count": 2,
   "metadata": {},
   "outputs": [],
   "source": [
    "# ...\n",
    "OUTPUT_PATH_IMAGES   = \"/home/ubuntu/temp/images/\"\n",
    "OUTPUT_PATH_CONCEPTS = \"/home/ubuntu/temp/concepts/\""
   ]
  },
  {
   "cell_type": "code",
   "execution_count": 3,
   "metadata": {},
   "outputs": [],
   "source": [
    "# ...\n",
    "BATCH_SIZE = 1000\n",
    "SPLIT_SIZE = 0.10"
   ]
  },
  {
   "cell_type": "code",
   "execution_count": 4,
   "metadata": {},
   "outputs": [],
   "source": [
    "# ...\n",
    "IMAGE_WIDTH  = 224\n",
    "IMAGE_HEIGHT = 224"
   ]
  },
  {
   "cell_type": "code",
   "execution_count": 5,
   "metadata": {},
   "outputs": [],
   "source": [
    "# ...\n",
    "VALUES_RANGE = \"-1_+1\""
   ]
  },
  {
   "cell_type": "code",
   "execution_count": 6,
   "metadata": {},
   "outputs": [],
   "source": [
    "# ...\n",
    "UNIQUE_IMAGES   = None\n",
    "UNIQUE_CONCEPTS = None"
   ]
  },
  {
   "cell_type": "code",
   "execution_count": 7,
   "metadata": {},
   "outputs": [],
   "source": [
    "IMAGE_LABEL = None"
   ]
  },
  {
   "cell_type": "code",
   "execution_count": 8,
   "metadata": {},
   "outputs": [
    {
     "name": "stdout",
     "output_type": "stream",
     "text": [
      "Solving environment: done\n",
      "\n",
      "\n",
      "==> WARNING: A newer version of conda exists. <==\n",
      "  current version: 4.4.8\n",
      "  latest version: 4.4.10\n",
      "\n",
      "Please update conda by running\n",
      "\n",
      "    $ conda update -n base conda\n",
      "\n",
      "\n",
      "\n",
      "## Package Plan ##\n",
      "\n",
      "  environment location: /usr\n",
      "\n",
      "  added / updated specs: \n",
      "    - tqdm\n",
      "\n",
      "\n",
      "The following NEW packages will be INSTALLED:\n",
      "\n",
      "    ca-certificates: 2017.08.26-h1d4fec5_0\n",
      "    certifi:         2018.1.18-py36_0     \n",
      "    libedit:         3.1-heed3624_0       \n",
      "    libffi:          3.2.1-hd88cf55_4     \n",
      "    libgcc-ng:       7.2.0-h7cc24e2_2     \n",
      "    libstdcxx-ng:    7.2.0-h7a57d05_2     \n",
      "    ncurses:         6.0-h9df7e31_2       \n",
      "    openssl:         1.0.2n-hb7f436b_0    \n",
      "    pip:             9.0.1-py36h6c6f9ce_4 \n",
      "    python:          3.6.4-hc3d631a_1     \n",
      "    readline:        7.0-ha6073c6_4       \n",
      "    setuptools:      38.5.1-py36_0        \n",
      "    sqlite:          3.22.0-h1bed415_0    \n",
      "    tk:              8.6.7-hc745277_3     \n",
      "    tqdm:            4.19.4-py36ha5a5176_0\n",
      "    wheel:           0.30.0-py36hfd4bba0_1\n",
      "    xz:              5.2.3-h55aa19d_2     \n",
      "    zlib:            1.2.11-ha838bed_2    \n",
      "\n",
      "Preparing transaction: done\n",
      "Verifying transaction: done\n",
      "Executing transaction: failed\n",
      "\n",
      "# >>>>>>>>>>>>>>>>>>>>>> ERROR REPORT <<<<<<<<<<<<<<<<<<<<<<\n",
      "\n",
      "    Traceback (most recent call last):\n",
      "      File \"/home/ubuntu/anaconda3/lib/python3.6/site-packages/conda/exceptions.py\", line 772, in __call__\n",
      "        return func(*args, **kwargs)\n",
      "      File \"/home/ubuntu/anaconda3/lib/python3.6/site-packages/conda/cli/main.py\", line 78, in _main\n",
      "        exit_code = do_call(args, p)\n",
      "      File \"/home/ubuntu/anaconda3/lib/python3.6/site-packages/conda/cli/conda_argparse.py\", line 77, in do_call\n",
      "        exit_code = getattr(module, func_name)(args, parser)\n",
      "      File \"/home/ubuntu/anaconda3/lib/python3.6/site-packages/conda/cli/main_install.py\", line 11, in execute\n",
      "        install(args, parser, 'install')\n",
      "      File \"/home/ubuntu/anaconda3/lib/python3.6/site-packages/conda/cli/install.py\", line 255, in install\n",
      "        handle_txn(progressive_fetch_extract, unlink_link_transaction, prefix, args, newenv)\n",
      "      File \"/home/ubuntu/anaconda3/lib/python3.6/site-packages/conda/cli/install.py\", line 285, in handle_txn\n",
      "        unlink_link_transaction.execute()\n",
      "      File \"/home/ubuntu/anaconda3/lib/python3.6/site-packages/conda/core/link.py\", line 225, in execute\n",
      "        self._execute(tuple(concat(interleave(itervalues(self.prefix_action_groups)))))\n",
      "      File \"/home/ubuntu/anaconda3/lib/python3.6/site-packages/conda/core/link.py\", line 472, in _execute\n",
      "        cls._execute_actions(pkg_idx, axngroup)\n",
      "      File \"/home/ubuntu/anaconda3/lib/python3.6/site-packages/conda/core/link.py\", line 515, in _execute_actions\n",
      "        mkdir_p(conda_meta_dir)\n",
      "      File \"/home/ubuntu/anaconda3/lib/python3.6/site-packages/conda/gateways/disk/__init__.py\", line 60, in mkdir_p\n",
      "        makedirs(path)\n",
      "      File \"/home/ubuntu/anaconda3/lib/python3.6/os.py\", line 220, in makedirs\n",
      "        mkdir(name, mode)\n",
      "    PermissionError: [Errno 13] Permission denied: '/usr/conda-meta'\n",
      "\n",
      "`$ /home/ubuntu/anaconda3/envs/tensorflow_p36/bin/conda install --yes --prefix /usr tqdm`\n",
      "\n",
      "  environment variables:\n",
      "                 CIO_TEST=<not set>\n",
      "        CONDA_DEFAULT_ENV=tensorflow_p36\n",
      "             CONDA_PREFIX=/home/ubuntu/anaconda3/envs/tensorflow_p36\n",
      "    CONDA_PROMPT_MODIFIER=(tensorflow_p36)\n",
      "         CONDA_PYTHON_EXE=/home/ubuntu/anaconda3/bin/python\n",
      "               CONDA_ROOT=/home/ubuntu/anaconda3\n",
      "              CONDA_SHLVL=1\n",
      "          LD_LIBRARY_PATH=/usr/local/cuda-9.0/lib64:/usr/local/cuda-9.0/extras/CUPTI/lib64:/lib/\n",
      "                          nccl/cuda-9:/usr/lib64/openmpi/lib/:/usr/local/lib:/usr/lib:/usr/local\n",
      "                          /mpi/lib:/lib/:/usr/lib64/openmpi/lib/:/usr/local/lib:/usr/lib:/usr/lo\n",
      "                          cal/mpi/lib:/lib/:\n",
      "                     PATH=/home/ubuntu/anaconda3/envs/tensorflow_p36/bin:/home/ubuntu/anaconda3/\n",
      "                          envs/tensorflow_p36/bin:/home/ubuntu/anaconda3/bin/:/home/ubuntu/bin:/\n",
      "                          home/ubuntu/.local/bin:/home/ubuntu/anaconda3/bin/:/usr/local/cuda/bin\n",
      "                          :/usr/local/bin:/opt/aws/bin:/usr/local/mpi/bin:/usr/local/cuda/bin:/u\n",
      "                          sr/local/bin:/opt/aws/bin:/home/ubuntu/src/cntk/bin:/usr/local/mpi/bin\n",
      "                          :/usr/local/cuda/bin:/usr/local/bin:/opt/aws/bin:/usr/local/mpi/bin:/u\n",
      "                          sr/local/sbin:/usr/local/bin:/usr/sbin:/usr/bin:/sbin:/bin:/usr/games:\n",
      "                          /usr/local/games:/snap/bin\n",
      "          PKG_CONFIG_PATH=/usr/local/lib/pkgconfig:/usr/local/lib/pkgconfig:/usr/local/lib/pkgco\n",
      "                          nfig:\n",
      "               PYTHONPATH=/home/ubuntu/src/cntk/bindings/python\n",
      "       REQUESTS_CA_BUNDLE=<not set>\n",
      "            SSL_CERT_FILE=<not set>\n",
      "\n",
      "     active environment : tensorflow_p36\n",
      "    active env location : /home/ubuntu/anaconda3/envs/tensorflow_p36\n",
      "            shell level : 1\n",
      "       user config file : /home/ubuntu/.condarc\n",
      " populated config files : \n",
      "          conda version : 4.4.8\n",
      "    conda-build version : 3.0.27\n",
      "         python version : 3.6.3.final.0\n",
      "       base environment : /home/ubuntu/anaconda3  (writable)\n",
      "           channel URLs : https://repo.continuum.io/pkgs/main/linux-64\n",
      "                          https://repo.continuum.io/pkgs/main/noarch\n",
      "                          https://repo.continuum.io/pkgs/free/linux-64\n",
      "                          https://repo.continuum.io/pkgs/free/noarch\n",
      "                          https://repo.continuum.io/pkgs/r/linux-64\n",
      "                          https://repo.continuum.io/pkgs/r/noarch\n",
      "                          https://repo.continuum.io/pkgs/pro/linux-64\n",
      "                          https://repo.continuum.io/pkgs/pro/noarch\n",
      "          package cache : /home/ubuntu/anaconda3/pkgs\n",
      "                          /home/ubuntu/.conda/pkgs\n",
      "       envs directories : /home/ubuntu/anaconda3/envs\n",
      "                          /home/ubuntu/.conda/envs\n",
      "               platform : linux-64\n",
      "             user-agent : conda/4.4.8 requests/2.18.4 CPython/3.6.3 Linux/4.4.0-1049-aws ubuntu/16.04 glibc/2.23\n",
      "                UID:GID : 1000:1000\n",
      "             netrc file : None\n",
      "           offline mode : False\n",
      "\n",
      "\n",
      "An unexpected error has occurred. Conda has prepared the above report.\n",
      "Upload successful.\n"
     ]
    }
   ],
   "source": [
    "# install packages.\n",
    "import sys\n",
    "!conda install --yes --prefix {sys.prefix} tqdm"
   ]
  },
  {
   "cell_type": "code",
   "execution_count": 9,
   "metadata": {},
   "outputs": [],
   "source": [
    "# import libraries.\n",
    "import zipfile\n",
    "import csv\n",
    "import pickle\n",
    "import numpy\n",
    "import cv2\n",
    "import random\n",
    "import h5py\n",
    "import tqdm"
   ]
  },
  {
   "cell_type": "code",
   "execution_count": 10,
   "metadata": {},
   "outputs": [],
   "source": [
    "# ...\n",
    "def open_images(path):\n",
    "    images = zipfile.ZipFile(path)\n",
    "    prefix = images.filelist[0].filename\n",
    "    suffix = '.' + images.filelist[1].filename.split('.')[-1]\n",
    "    return (images, prefix, suffix)"
   ]
  },
  {
   "cell_type": "code",
   "execution_count": 11,
   "metadata": {},
   "outputs": [],
   "source": [
    "# ...\n",
    "images, prefix, suffix = open_images(INPUT_PATH_IMAGES)"
   ]
  },
  {
   "cell_type": "code",
   "execution_count": 12,
   "metadata": {},
   "outputs": [],
   "source": [
    "# ...\n",
    "def open_concepts(path):\n",
    "    data = []\n",
    "    with open(path, 'rb') as csvfile:\n",
    "        for image, captions in csv.reader(csvfile, delimiter='\\t'):\n",
    "            data.append([image, captions.split(\";\")])\n",
    "    return data"
   ]
  },
  {
   "cell_type": "code",
   "execution_count": 13,
   "metadata": {},
   "outputs": [],
   "source": [
    "# ...\n",
    "concepts = open_concepts(INPUT_PATH_CONCEPTS)"
   ]
  },
  {
   "cell_type": "code",
   "execution_count": 14,
   "metadata": {},
   "outputs": [],
   "source": [
    "# ...\n",
    "def find_unique_images(data):\n",
    "    unique_images = set()\n",
    "    for image in data.filelist:\n",
    "        image = image.filename\n",
    "        if '.' not in image:\n",
    "            continue\n",
    "        unique_images.add(image)\n",
    "    return unique_images"
   ]
  },
  {
   "cell_type": "code",
   "execution_count": 15,
   "metadata": {},
   "outputs": [],
   "source": [
    "# ...\n",
    "unique_images = find_unique_images(images)"
   ]
  },
  {
   "cell_type": "code",
   "execution_count": 16,
   "metadata": {},
   "outputs": [],
   "source": [
    "# ...\n",
    "def find_unique_concepts(data):\n",
    "    unique_images = set()\n",
    "    unique_concepts = set()\n",
    "    for image, concepts in data:\n",
    "        unique_images.add(image)\n",
    "        for concept in concepts:\n",
    "            unique_concepts.add(concept)\n",
    "    return unique_images, unique_concepts"
   ]
  },
  {
   "cell_type": "code",
   "execution_count": 17,
   "metadata": {},
   "outputs": [],
   "source": [
    "# ...\n",
    "unique_images, unique_concepts = find_unique_concepts(concepts)"
   ]
  },
  {
   "cell_type": "code",
   "execution_count": 18,
   "metadata": {},
   "outputs": [
    {
     "data": {
      "text/plain": [
       "True"
      ]
     },
     "execution_count": 18,
     "metadata": {},
     "output_type": "execute_result"
    }
   ],
   "source": [
    "# sanity check.\n",
    "len(find_unique_images(images)) == len(find_unique_concepts(concepts)[0])"
   ]
  },
  {
   "cell_type": "code",
   "execution_count": 19,
   "metadata": {},
   "outputs": [],
   "source": [
    "# ...\n",
    "def zip_with_index(data):\n",
    "    tmp = dict()\n",
    "    for index, concept in enumerate(data):\n",
    "        tmp[concept] = index\n",
    "    return tmp"
   ]
  },
  {
   "cell_type": "code",
   "execution_count": 20,
   "metadata": {},
   "outputs": [],
   "source": [
    "# ...\n",
    "unique_images = zip_with_index(unique_images)"
   ]
  },
  {
   "cell_type": "code",
   "execution_count": 21,
   "metadata": {},
   "outputs": [],
   "source": [
    "# ...\n",
    "unique_concepts = zip_with_index(unique_concepts)"
   ]
  },
  {
   "cell_type": "code",
   "execution_count": 22,
   "metadata": {},
   "outputs": [],
   "source": [
    "# ...\n",
    "def save_pickle(data, path):\n",
    "    pickle.dump(\n",
    "        obj=data,\n",
    "        file=open(path, \"wb\")\n",
    "    )"
   ]
  },
  {
   "cell_type": "code",
   "execution_count": 23,
   "metadata": {},
   "outputs": [],
   "source": [
    "# ...\n",
    "save_pickle(unique_images, OUTPUT_PATH_CONCEPTS + \"unique_images.pickle\")"
   ]
  },
  {
   "cell_type": "code",
   "execution_count": 24,
   "metadata": {},
   "outputs": [],
   "source": [
    "# ...\n",
    "save_pickle(unique_concepts, OUTPUT_PATH_CONCEPTS + \"unique_concepts.pickle\")"
   ]
  },
  {
   "cell_type": "code",
   "execution_count": 25,
   "metadata": {},
   "outputs": [],
   "source": [
    "# ...\n",
    "def load_pickle(path):\n",
    "    return pickle.load(\n",
    "        file=open(path, \"rb\")\n",
    "    )"
   ]
  },
  {
   "cell_type": "code",
   "execution_count": 26,
   "metadata": {},
   "outputs": [],
   "source": [
    "# ...\n",
    "UNIQUE_IMAGES = load_pickle(OUTPUT_PATH_CONCEPTS + \"unique_images.pickle\")"
   ]
  },
  {
   "cell_type": "code",
   "execution_count": 27,
   "metadata": {},
   "outputs": [],
   "source": [
    "# ...\n",
    "UNIQUE_CONCEPTS = load_pickle(OUTPUT_PATH_CONCEPTS + \"unique_concepts.pickle\")"
   ]
  },
  {
   "cell_type": "code",
   "execution_count": 28,
   "metadata": {},
   "outputs": [],
   "source": [
    "# ...\n",
    "def generate_labels(data, indexies):\n",
    "    tmp = dict()\n",
    "    for image, concepts in data:\n",
    "        sparse = []\n",
    "        for concept in concepts:\n",
    "            sparse.append(indexies[concept])\n",
    "        tmp[image] = sparse\n",
    "    return tmp"
   ]
  },
  {
   "cell_type": "code",
   "execution_count": 29,
   "metadata": {},
   "outputs": [],
   "source": [
    "# ...\n",
    "image_label = generate_labels(concepts, UNIQUE_CONCEPTS)"
   ]
  },
  {
   "cell_type": "code",
   "execution_count": 30,
   "metadata": {},
   "outputs": [],
   "source": [
    "# ...\n",
    "save_pickle(image_label, OUTPUT_PATH_CONCEPTS + \"image_label.pickle\")"
   ]
  },
  {
   "cell_type": "code",
   "execution_count": 31,
   "metadata": {},
   "outputs": [],
   "source": [
    "# ...\n",
    "IMAGE_LABEL = load_pickle(OUTPUT_PATH_CONCEPTS + \"image_label.pickle\")"
   ]
  },
  {
   "cell_type": "code",
   "execution_count": 32,
   "metadata": {},
   "outputs": [],
   "source": [
    "# ...\n",
    "def sparse_to_dense(sparse, length):\n",
    "    dense = numpy.zeros(length)\n",
    "    for index in sparse:\n",
    "        dense[index] = 1\n",
    "    return dense"
   ]
  },
  {
   "cell_type": "code",
   "execution_count": 33,
   "metadata": {},
   "outputs": [],
   "source": [
    "# ...\n",
    "def shuffle_a_dictionary(data):\n",
    "    keys = data.keys()\n",
    "    random.shuffle(keys)\n",
    "    return keys"
   ]
  },
  {
   "cell_type": "code",
   "execution_count": 34,
   "metadata": {},
   "outputs": [],
   "source": [
    "# ...\n",
    "def load(path):\n",
    "    return cv2.imdecode(numpy.frombuffer(images.read(path), numpy.uint8), cv2.IMREAD_COLOR)"
   ]
  },
  {
   "cell_type": "code",
   "execution_count": 35,
   "metadata": {},
   "outputs": [],
   "source": [
    "# ...\n",
    "def resize(image, width, height):\n",
    "    return cv2.resize(image, (width, height), interpolation=cv2.INTER_CUBIC)"
   ]
  },
  {
   "cell_type": "code",
   "execution_count": 36,
   "metadata": {},
   "outputs": [],
   "source": [
    "# ...\n",
    "def equalize(image):\n",
    "    for channel in range(3):\n",
    "        image[:, :, channel] = cv2.equalizeHist(image[:, :, channel])\n",
    "    return image"
   ]
  },
  {
   "cell_type": "code",
   "execution_count": 37,
   "metadata": {},
   "outputs": [],
   "source": [
    "# ...\n",
    "def normalize(image, method):\n",
    "    for channel in range(3):\n",
    "        if method == \"+0_+1\":\n",
    "            image[:, :, channel] = ( image[:, :, channel] / ( 255.0 / 1.0 ) ) - 0.0\n",
    "        elif method == \"-1_+1\":\n",
    "            image[:, :, channel] = ( image[:, :, channel] / ( 255.0 / 2.0 ) ) - 1.0\n",
    "    return image"
   ]
  },
  {
   "cell_type": "code",
   "execution_count": 38,
   "metadata": {},
   "outputs": [],
   "source": [
    "# ...\n",
    "def transpose(image):\n",
    "    return numpy.transpose(image, (2, 0, 1))"
   ]
  },
  {
   "cell_type": "code",
   "execution_count": 39,
   "metadata": {},
   "outputs": [],
   "source": [
    "# ...\n",
    "def save_jpeg(path, image):\n",
    "    cv2.imwrite(path, image)"
   ]
  },
  {
   "cell_type": "code",
   "execution_count": 40,
   "metadata": {},
   "outputs": [],
   "source": [
    "# ...\n",
    "def bound_jpeg(images):\n",
    "    start = 1\n",
    "    stop = len(images) + 1\n",
    "    return start, stop"
   ]
  },
  {
   "cell_type": "code",
   "execution_count": 41,
   "metadata": {},
   "outputs": [],
   "source": [
    "# ...\n",
    "def process_jpeg(images):\n",
    "    start, stop = bound_jpeg(images)\n",
    "    for image in tqdm.tqdm_notebook(shuffle_a_dictionary(images)):\n",
    "        path = OUTPUT_PATH_IMAGES + \"jpeg/\" + image + suffix\n",
    "        data = resize(\n",
    "                    load(\n",
    "                        prefix + image + suffix\n",
    "                    ),\n",
    "                    IMAGE_WIDTH,\n",
    "                    IMAGE_HEIGHT\n",
    "                )\n",
    "        save_jpeg(path, data)"
   ]
  },
  {
   "cell_type": "code",
   "execution_count": 42,
   "metadata": {},
   "outputs": [
    {
     "data": {
      "application/vnd.jupyter.widget-view+json": {
       "model_id": "9d95605e98854d65ba6f27faed33a126",
       "version_major": 2,
       "version_minor": 0
      },
      "text/html": [
       "<p>Failed to display Jupyter Widget of type <code>HBox</code>.</p>\n",
       "<p>\n",
       "  If you're reading this message in the Jupyter Notebook or JupyterLab Notebook, it may mean\n",
       "  that the widgets JavaScript is still loading. If this message persists, it\n",
       "  likely means that the widgets JavaScript library is either not installed or\n",
       "  not enabled. See the <a href=\"https://ipywidgets.readthedocs.io/en/stable/user_install.html\">Jupyter\n",
       "  Widgets Documentation</a> for setup instructions.\n",
       "</p>\n",
       "<p>\n",
       "  If you're reading this message in another frontend (for example, a static\n",
       "  rendering on GitHub or <a href=\"https://nbviewer.jupyter.org/\">NBViewer</a>),\n",
       "  it may mean that your frontend doesn't currently support widgets.\n",
       "</p>\n"
      ],
      "text/plain": [
       "HBox(children=(IntProgress(value=0, max=223859), HTML(value=u'')))"
      ]
     },
     "metadata": {},
     "output_type": "display_data"
    },
    {
     "name": "stdout",
     "output_type": "stream",
     "text": [
      "\n"
     ]
    }
   ],
   "source": [
    "# ...\n",
    "process_jpeg(IMAGE_LABEL)"
   ]
  },
  {
   "cell_type": "code",
   "execution_count": 43,
   "metadata": {},
   "outputs": [],
   "source": [
    "# for batch in tqdm.tqdm_notebook(range(start, stop)):\n",
    "# # ...\n",
    "# def save_hdf5(path, images):\n",
    "#     for image in \n",
    "#     with h5py.File(path , 'w') as file:\n",
    "#         file.create_dataset('name', data=batch_name[:i])\n",
    "#         file.create_dataset('label', data=batch_label[:i])\n",
    "#         file.create_dataset('data', data=batch_data[:i])\n",
    "#         batch_name = BATCH_SIZE * [None]\n",
    "#         batch_label = numpy.zeros((BATCH_SIZE, len(unique_concepts_data)))\n",
    "#         batch_data = numpy.zeros((BATCH_SIZE, IMAGE_WIDTH, IMAGE_HEIGHT, 3))\n",
    "#         path = OUTPUT_PATH_IMAGES + \"batch\" + '{:0{width}}'.format(part, width=length) + \".hdf5\"\n",
    "#    #batch_data[i, :, :, :] = \n",
    "#    #batch_label[i, :] = sparse_to_dense(images[image], len(unique_concepts_data))\n",
    "#    #batch_name[i] = image\n",
    "#    #i += 1\n",
    "#    #images.pop(image, None)"
   ]
  },
  {
   "cell_type": "code",
   "execution_count": 44,
   "metadata": {},
   "outputs": [],
   "source": [
    "# # ...\n",
    "# def compute_process_boundaries(unique_images, batch_size):\n",
    "#     start = 1\n",
    "#     stop = (len(unique_images) / batch_size if len(unique_images) % batch_size == 0 else len(unique_images) / batch_size + 1) + 1\n",
    "#     length = len(str(stop))\n",
    "#     return start, stop, length"
   ]
  },
  {
   "cell_type": "code",
   "execution_count": null,
   "metadata": {},
   "outputs": [],
   "source": []
  }
 ],
 "metadata": {
  "kernelspec": {
   "display_name": "Python 3",
   "language": "python",
   "name": "python3"
  },
  "language_info": {
   "codemirror_mode": {
    "name": "ipython",
    "version": 3
   },
   "file_extension": ".py",
   "mimetype": "text/x-python",
   "name": "python",
   "nbconvert_exporter": "python",
   "pygments_lexer": "ipython3",
   "version": "3.6.4"
  }
 },
 "nbformat": 4,
 "nbformat_minor": 2
}
